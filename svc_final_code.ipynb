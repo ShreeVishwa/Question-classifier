{
 "cells": [
  {
   "cell_type": "code",
   "execution_count": 1,
   "metadata": {},
   "outputs": [],
   "source": [
    "import pandas as pd\n",
    "import numpy as np\n",
    "import tensorflow as tf"
   ]
  },
  {
   "cell_type": "code",
   "execution_count": 2,
   "metadata": {},
   "outputs": [
    {
     "data": {
      "text/html": [
       "<div>\n",
       "<style scoped>\n",
       "    .dataframe tbody tr th:only-of-type {\n",
       "        vertical-align: middle;\n",
       "    }\n",
       "\n",
       "    .dataframe tbody tr th {\n",
       "        vertical-align: top;\n",
       "    }\n",
       "\n",
       "    .dataframe thead th {\n",
       "        text-align: right;\n",
       "    }\n",
       "</style>\n",
       "<table border=\"1\" class=\"dataframe\">\n",
       "  <thead>\n",
       "    <tr style=\"text-align: right;\">\n",
       "      <th></th>\n",
       "      <th>QuestionID</th>\n",
       "      <th>Question</th>\n",
       "      <th>DocumentID</th>\n",
       "      <th>DocumentTitle</th>\n",
       "      <th>SentenceID</th>\n",
       "      <th>Sentence</th>\n",
       "      <th>Label</th>\n",
       "    </tr>\n",
       "  </thead>\n",
       "  <tbody>\n",
       "    <tr>\n",
       "      <th>0</th>\n",
       "      <td>Q1</td>\n",
       "      <td>how are glacier caves formed?</td>\n",
       "      <td>D1</td>\n",
       "      <td>Glacier cave</td>\n",
       "      <td>D1-0</td>\n",
       "      <td>A partly submerged glacier cave on Perito More...</td>\n",
       "      <td>0</td>\n",
       "    </tr>\n",
       "    <tr>\n",
       "      <th>1</th>\n",
       "      <td>Q1</td>\n",
       "      <td>how are glacier caves formed?</td>\n",
       "      <td>D1</td>\n",
       "      <td>Glacier cave</td>\n",
       "      <td>D1-1</td>\n",
       "      <td>The ice facade is approximately 60 m high</td>\n",
       "      <td>0</td>\n",
       "    </tr>\n",
       "    <tr>\n",
       "      <th>2</th>\n",
       "      <td>Q1</td>\n",
       "      <td>how are glacier caves formed?</td>\n",
       "      <td>D1</td>\n",
       "      <td>Glacier cave</td>\n",
       "      <td>D1-2</td>\n",
       "      <td>Ice formations in the Titlis glacier cave</td>\n",
       "      <td>0</td>\n",
       "    </tr>\n",
       "    <tr>\n",
       "      <th>3</th>\n",
       "      <td>Q1</td>\n",
       "      <td>how are glacier caves formed?</td>\n",
       "      <td>D1</td>\n",
       "      <td>Glacier cave</td>\n",
       "      <td>D1-3</td>\n",
       "      <td>A glacier cave is a cave formed within the ice...</td>\n",
       "      <td>1</td>\n",
       "    </tr>\n",
       "    <tr>\n",
       "      <th>4</th>\n",
       "      <td>Q1</td>\n",
       "      <td>how are glacier caves formed?</td>\n",
       "      <td>D1</td>\n",
       "      <td>Glacier cave</td>\n",
       "      <td>D1-4</td>\n",
       "      <td>Glacier caves are often called ice caves , but...</td>\n",
       "      <td>0</td>\n",
       "    </tr>\n",
       "  </tbody>\n",
       "</table>\n",
       "</div>"
      ],
      "text/plain": [
       "  QuestionID                       Question DocumentID DocumentTitle  \\\n",
       "0         Q1  how are glacier caves formed?         D1  Glacier cave   \n",
       "1         Q1  how are glacier caves formed?         D1  Glacier cave   \n",
       "2         Q1  how are glacier caves formed?         D1  Glacier cave   \n",
       "3         Q1  how are glacier caves formed?         D1  Glacier cave   \n",
       "4         Q1  how are glacier caves formed?         D1  Glacier cave   \n",
       "\n",
       "  SentenceID                                           Sentence  Label  \n",
       "0       D1-0  A partly submerged glacier cave on Perito More...      0  \n",
       "1       D1-1          The ice facade is approximately 60 m high      0  \n",
       "2       D1-2          Ice formations in the Titlis glacier cave      0  \n",
       "3       D1-3  A glacier cave is a cave formed within the ice...      1  \n",
       "4       D1-4  Glacier caves are often called ice caves , but...      0  "
      ]
     },
     "execution_count": 2,
     "metadata": {},
     "output_type": "execute_result"
    }
   ],
   "source": [
    "data_set = pd.read_csv('./WikiQA-train.tsv', sep=\"\\t\")\n",
    "data_set.head()"
   ]
  },
  {
   "cell_type": "code",
   "execution_count": 3,
   "metadata": {},
   "outputs": [
    {
     "data": {
      "text/html": [
       "<div>\n",
       "<style scoped>\n",
       "    .dataframe tbody tr th:only-of-type {\n",
       "        vertical-align: middle;\n",
       "    }\n",
       "\n",
       "    .dataframe tbody tr th {\n",
       "        vertical-align: top;\n",
       "    }\n",
       "\n",
       "    .dataframe thead th {\n",
       "        text-align: right;\n",
       "    }\n",
       "</style>\n",
       "<table border=\"1\" class=\"dataframe\">\n",
       "  <thead>\n",
       "    <tr style=\"text-align: right;\">\n",
       "      <th></th>\n",
       "      <th>sentences</th>\n",
       "      <th>label</th>\n",
       "    </tr>\n",
       "  </thead>\n",
       "  <tbody>\n",
       "    <tr>\n",
       "      <th>0</th>\n",
       "      <td>how many rounds in boxing</td>\n",
       "      <td>1</td>\n",
       "    </tr>\n",
       "    <tr>\n",
       "      <th>1</th>\n",
       "      <td>The powers not delegated to the United States ...</td>\n",
       "      <td>0</td>\n",
       "    </tr>\n",
       "    <tr>\n",
       "      <th>2</th>\n",
       "      <td>The overall reaction is broken into many small...</td>\n",
       "      <td>0</td>\n",
       "    </tr>\n",
       "    <tr>\n",
       "      <th>3</th>\n",
       "      <td>what school district is alvin in?</td>\n",
       "      <td>1</td>\n",
       "    </tr>\n",
       "    <tr>\n",
       "      <th>4</th>\n",
       "      <td>what is the book of verses james frey reads in...</td>\n",
       "      <td>1</td>\n",
       "    </tr>\n",
       "  </tbody>\n",
       "</table>\n",
       "</div>"
      ],
      "text/plain": [
       "                                           sentences  label\n",
       "0                          how many rounds in boxing      1\n",
       "1  The powers not delegated to the United States ...      0\n",
       "2  The overall reaction is broken into many small...      0\n",
       "3                  what school district is alvin in?      1\n",
       "4  what is the book of verses james frey reads in...      1"
      ]
     },
     "execution_count": 3,
     "metadata": {},
     "output_type": "execute_result"
    }
   ],
   "source": [
    "questions = data_set['Question'].unique().tolist()\n",
    "#print((questions))\n",
    "answers = data_set['Sentence'].unique().tolist()\n",
    "# question = 1\n",
    "# answer = 0\n",
    "train_X_1 = pd.DataFrame(data=questions,columns=['sentences'])\n",
    "train_Y_1 = pd.DataFrame(data=[1 for _ in range(len(questions))], columns=['label'])\n",
    "\n",
    "train_X_2 = pd.DataFrame(data=answers[:len(questions)], columns=['sentences'])\n",
    "train_Y_2 = pd.DataFrame(data=[0 for _ in range(len(questions))], columns=['label'])\n",
    "\n",
    "train_X = pd.concat([train_X_1, train_X_2], axis=0)\n",
    "train_Y = pd.concat([train_Y_1, train_Y_2], axis=0)\n",
    "\n",
    "train_data = pd.concat([train_X, train_Y], axis=1)\n",
    "\n",
    "train = train_data.sample(frac=1).reset_index(drop=True)\n",
    "train.head()\n"
   ]
  },
  {
   "cell_type": "code",
   "execution_count": 4,
   "metadata": {},
   "outputs": [],
   "source": [
    "# print(train['sentences'].tolist())"
   ]
  },
  {
   "cell_type": "code",
   "execution_count": 5,
   "metadata": {},
   "outputs": [],
   "source": [
    "import spacy\n",
    "import copy\n",
    "import numpy as np\n",
    "nlp = spacy.load('en_core_web_lg')  # make sure to use larger model!"
   ]
  },
  {
   "cell_type": "code",
   "execution_count": 6,
   "metadata": {
    "scrolled": true
   },
   "outputs": [],
   "source": [
    "\n",
    "\n",
    "max_size = 70\n",
    "emb_dim = 300\n",
    "\n",
    "def preprocess_data(data):\n",
    "    sen, lab = data\n",
    "    ip_vec = []\n",
    "    idx_rm = []\n",
    "    for idx,sentence in enumerate(sen):\n",
    "\n",
    "        sentence = sentence.replace(\"?\",\"\")\n",
    "        tokens = nlp(sentence)\n",
    "        if(len(tokens)> max_size):\n",
    "            idx_rm.append(idx)\n",
    "            continue\n",
    "        new_vec = []\n",
    "        for token in tokens:\n",
    "            if(not(token.text == '?' )):\n",
    "                #print(\"emb dim =\",len(token.vector))\n",
    "                new_vec.append(token.vector)\n",
    "        nc3 = [[0]*emb_dim]*(max_size-len(new_vec))\n",
    "        new_vec.extend(nc3)\n",
    "  \n",
    "        ip_vec.append(copy.copy(new_vec))\n",
    "    ip_vec = np.array(ip_vec)\n",
    "    ip_labels = [lab[i] for i in range(len(lab)) if i not in idx_rm]\n",
    "    return ip_vec, ip_labels\n"
   ]
  },
  {
   "cell_type": "code",
   "execution_count": 7,
   "metadata": {},
   "outputs": [
    {
     "name": "stdout",
     "output_type": "stream",
     "text": [
      "4223\n"
     ]
    }
   ],
   "source": [
    "#print(train)\n",
    "#print(train)\n",
    "tdata,tlabel = preprocess_data((train['sentences'], train['label']))\n",
    "print(len(tlabel))\n",
    "\n",
    "tdata = np.reshape(tdata,(-1,max_size*emb_dim))\n"
   ]
  },
  {
   "cell_type": "code",
   "execution_count": 8,
   "metadata": {},
   "outputs": [
    {
     "data": {
      "text/plain": [
       "LinearSVC(C=1.0, class_weight=None, dual=True, fit_intercept=True,\n",
       "     intercept_scaling=1, loss='squared_hinge', max_iter=1000,\n",
       "     multi_class='ovr', penalty='l2', random_state=0, tol=1e-05, verbose=0)"
      ]
     },
     "execution_count": 8,
     "metadata": {},
     "output_type": "execute_result"
    }
   ],
   "source": [
    "from sklearn.svm import LinearSVC\n",
    "clf = LinearSVC(random_state=0, tol=1e-5)\n",
    "clf.fit(tdata, tlabel)"
   ]
  },
  {
   "cell_type": "code",
   "execution_count": 9,
   "metadata": {},
   "outputs": [],
   "source": [
    "test = [\"What was the network operated by the Duct PTT Telecom\",\n",
    "\"When did Zhenjin die\",\n",
    "\"The force, therefore, is related directly to the difference in potential energy between two different locations in space, and can be considered to be an artifact of the potential field in the same way that the direction and amount of a flow of water can be considered to be an artifact of the contour map of the elevation of an area\",\n",
    "\"In 1785 what paper did James Hutton present to the Royal Society of Edinburgh\",\n",
    "\"What does the ctenophora use to swim\",\n",
    "\"What city was Jan van Riebeeck from\",\n",
    "\"At the same time, the available evidence provides little support for the view that U.S.-style labor-market flexibility dramatically improves labor-market outcomes\",\n",
    "\"Acute oxygen toxicity (causing seizures, its most feared effect for divers) can occur by breathing an air mixture with 21% O 2 at 66 m or more of depth; the same thing can occur by breathing 100% O 2 at only 6 m\",\n",
    "\"What does poor academic achievement lead to according to critics\",\n",
    "\"What does oxygen the basis for in combustion\",\n",
    "\"Is this for real\",\n",
    "\"How many bits are often in the primes used for RSA private key cryptography algorithms\",\n",
    "\"What was lacking in the second assessment report\",\n",
    "\"The graph isomorphism problem, the discrete logarithm problem and the integer factorization problem are examples of problems believed to be NP-intermediate\",\n",
    "\"Late outbreaks in central Europe included the Italian Plague of 1629–1631, which is associated with troop movements during the Thirty Years' War, and the Great Plague of Vienna in 1679\",\n",
    "\"Gasquet (1908) claimed that the Latin name atra mors (Black Death) for the 14th-century epidemic first appeared in modern times in 1631 in a book on Danish history by J.I\",\n",
    "\"What kind of focus has the Ethical Reasoning program had since 2007\",\n",
    "\"What has having an EU Citizenship decreased\",\n",
    "\"Which group has two layers of cells with a middle layer of mesoglea\",\n",
    "\"How far is it from Davenports Neck to New Rochelle\",\n",
    "\"Much of the work of the Scottish Parliament is done in committee\",\n",
    "\"Release of carbon contained in vegetation will slow down what\",\n",
    "\"Following the death of Braddock, William Shirley assumed command of British forces in North America\",\n",
    "\"What are the least commonly ascribed attributes of L in relation to P\",\n",
    "\"Even before the Norman Conquest of England, the Normans had come into contact with Wales\",\n",
    "\"About how many cubic meters of make-up water is used by a 700-megawatt coal-fired power plant for evaporative cooling hourly\",\n",
    "\"What is one thing that copepods like to eat\",\n",
    "\"The Central Region, consisting of present-day Hebei, Shandong, Shanxi, the south-eastern part of present-day Inner Mongolia and the Henan areas to the north of the Yellow River, was considered the most important region of the dynasty and directly governed by the Central Secretariat (or Zhongshu Sheng) at Khanbaliq (modern Beijing); similarly, another top-level administrative department called the Bureau of Buddhist and Tibetan Affairs (or Xuanzheng Yuan) held administrative rule over the whole of modern-day Tibet and a part of Sichuan, Qinghai and Kashmir\"]\n",
    "test_labels = [1,1,0,1,1,1,0,0,1,1,1,1,1,0,0,0,1,1,1,1,0,1,0,1,0,1,1,0]"
   ]
  },
  {
   "cell_type": "code",
   "execution_count": 10,
   "metadata": {},
   "outputs": [],
   "source": [
    "test_vec, test_labels = preprocess_data((test, test_labels))\n",
    "test_vec = np.reshape(test_vec,(-1,max_size*emb_dim))"
   ]
  },
  {
   "cell_type": "code",
   "execution_count": 11,
   "metadata": {},
   "outputs": [],
   "source": [
    "preds = clf.predict(test_vec)"
   ]
  },
  {
   "cell_type": "code",
   "execution_count": 12,
   "metadata": {},
   "outputs": [
    {
     "name": "stdout",
     "output_type": "stream",
     "text": [
      "[1 1 0 0 1 1 0 0 1 1 1 1 1 0 0 0 1 1 0 1 0 0 0 1 0 0 1]\n"
     ]
    }
   ],
   "source": [
    "print(preds)"
   ]
  },
  {
   "cell_type": "code",
   "execution_count": 13,
   "metadata": {},
   "outputs": [
    {
     "name": "stdout",
     "output_type": "stream",
     "text": [
      "85.18518518518519\n"
     ]
    }
   ],
   "source": [
    "count = 0\n",
    "for i in range(len(test_labels)):\n",
    "    if(test_labels[i]== preds[i]):\n",
    "        count += 1\n",
    "acc = count * 100.0/len(test_labels)\n",
    "print(acc)"
   ]
  },
  {
   "cell_type": "code",
   "execution_count": 25,
   "metadata": {},
   "outputs": [],
   "source": [
    "test_data = []\n",
    "with open('./test-inputs.txt', 'r') as f:\n",
    "    for line in f:\n",
    "        test_data.append(line.strip())\n",
    "f.close()"
   ]
  },
  {
   "cell_type": "code",
   "execution_count": 26,
   "metadata": {},
   "outputs": [
    {
     "data": {
      "text/plain": [
       "['What was the network operated by the Duct PTT Telecom',\n",
       " 'When did Zhenjin die',\n",
       " 'The force, therefore, is related directly to the difference in potential energy between two different locations in space, and can be considered to be an artifact of the potential field in the same way that the direction and amount of a flow of water can be considered to be an artifact of the contour map of the elevation of an area',\n",
       " 'In 1785 James Hutton presented what paper to the Royal Society of Edinburgh',\n",
       " 'What does the ctenophora use to swim',\n",
       " 'It is the county seat of Duval County, with which the city government consolidated in 1968',\n",
       " 'Where is the Asian gold miners strongest in Victoria',\n",
       " 'How did france differ from Britain in managing its colonies',\n",
       " 'In case of a shared physical medium (such as radio or 10BASE5), the packets may be delivered according to a multiple access scheme',\n",
       " 'To clear out this confusion about the definition of imperialism one could speak of \"formal\" and \"informal\" imperialism, the first meaning physical control or \"full-fledged colonial rule\" while the second implied less direct rule though still containing perceivable kinds of dominance']"
      ]
     },
     "execution_count": 26,
     "metadata": {},
     "output_type": "execute_result"
    }
   ],
   "source": [
    "test_data[:10]"
   ]
  },
  {
   "cell_type": "code",
   "execution_count": 30,
   "metadata": {},
   "outputs": [],
   "source": [
    "test_vec_1, _ = preprocess_data((test_data, test_labels))"
   ]
  },
  {
   "cell_type": "code",
   "execution_count": 32,
   "metadata": {},
   "outputs": [],
   "source": [
    "test_vec_1 = np.reshape(test_vec_1,(-1,max_size*emb_dim))"
   ]
  },
  {
   "cell_type": "code",
   "execution_count": 34,
   "metadata": {},
   "outputs": [],
   "source": [
    "preds_1 = clf.predict(test_vec_1)"
   ]
  },
  {
   "cell_type": "code",
   "execution_count": 36,
   "metadata": {},
   "outputs": [],
   "source": [
    "file = open('svc_output.txt', 'w')\n",
    "for val in preds_1:\n",
    "    file.write(str(val)+\"\\n\")\n",
    "file.close()"
   ]
  },
  {
   "cell_type": "code",
   "execution_count": null,
   "metadata": {},
   "outputs": [],
   "source": []
  }
 ],
 "metadata": {
  "kernelspec": {
   "display_name": "Python 2",
   "language": "python",
   "name": "python2"
  },
  "language_info": {
   "codemirror_mode": {
    "name": "ipython",
    "version": 3
   },
   "file_extension": ".py",
   "mimetype": "text/x-python",
   "name": "python",
   "nbconvert_exporter": "python",
   "pygments_lexer": "ipython3",
   "version": "3.5.6"
  }
 },
 "nbformat": 4,
 "nbformat_minor": 2
}
